{
 "cells": [
  {
   "cell_type": "markdown",
   "metadata": {
    "colab_type": "text",
    "id": "psG2CJDm_oY0"
   },
   "source": [
    "# 概要\n",
    "\n",
    "- タスク：チャットボット\n",
    "- モデル：LSTM を用いた seq2seq\n",
    "- 学習データ：[コーネル映画会話コーパス](https://www.cs.cornell.edu/~cristian/Cornell_Movie-Dialogs_Corpus.html)（[参考](https://db-event.jpn.org/deim2016/papers/81.pdf)）\n",
    "\n",
    "頭から実行していっても良いが、加工と学習にそこそこ時間がかかる。\n",
    "\n",
    "学習済みの結果を使うには、下記のファイルが入った chatbot ディレクトリを GoogleDrive のルート直下に置く。\n",
    "（Google Colab ではなくローカルで動かす場合は、任意の場所に置いて、以降のセルの絶対パスを適宜書き換える）\n",
    "- `encoder_20epoch.pt`\n",
    "- `decoder_20epoch.pt`\n",
    "- `index2word_CornellMovie.pkl`\n",
    "- `word2index_CornellMovie.pkl`\n",
    "\n",
    "そうすると、全てのセルを実行する必要がなく、\n",
    "下記のセクションだけ実行すればチャットボットを動かせる。\n",
    "- 環境設定\n",
    "- ライブラリのインポート\n",
    "- Encoder, Decoder の定義\n",
    "- モデル等の読み込み\n",
    "- チャットボットの補助的な関数を定義\n",
    "- チャットボットの関数を定義\n",
    "- チャットボットを動かす\n"
   ]
  },
  {
   "cell_type": "markdown",
   "metadata": {
    "colab_type": "text",
    "id": "cjBgkeOGBwZr"
   },
   "source": [
    "# 環境設定"
   ]
  },
  {
   "cell_type": "code",
   "execution_count": 2,
   "metadata": {
    "colab": {
     "base_uri": "https://localhost:8080/",
     "height": 122
    },
    "colab_type": "code",
    "executionInfo": {
     "elapsed": 20698,
     "status": "ok",
     "timestamp": 1596178775523,
     "user": {
      "displayName": "Rui ds",
      "photoUrl": "",
      "userId": "05602141477976220902"
     },
     "user_tz": -540
    },
    "id": "TiJFPjQB_WYP",
    "outputId": "8d13809e-24e5-49c1-cb69-fe7b2da6a55e"
   },
   "outputs": [
    {
     "name": "stdout",
     "output_type": "stream",
     "text": [
      "Go to this URL in a browser: https://accounts.google.com/o/oauth2/auth?client_id=947318989803-6bn6qk8qdgf4n4g3pfee6491hc0brc4i.apps.googleusercontent.com&redirect_uri=urn%3aietf%3awg%3aoauth%3a2.0%3aoob&response_type=code&scope=email%20https%3a%2f%2fwww.googleapis.com%2fauth%2fdocs.test%20https%3a%2f%2fwww.googleapis.com%2fauth%2fdrive%20https%3a%2f%2fwww.googleapis.com%2fauth%2fdrive.photos.readonly%20https%3a%2f%2fwww.googleapis.com%2fauth%2fpeopleapi.readonly\n",
      "\n",
      "Enter your authorization code:\n",
      "··········\n",
      "Mounted at /content/drive\n"
     ]
    }
   ],
   "source": [
    "# Google Colab をマウント\n",
    "# 参考：https://qiita.com/k_uekado/items/45b76f9a6f920bf0f786\n",
    "\n",
    "from google.colab import drive\n",
    "drive.mount('/content/drive')\n",
    "\n",
    "# 左サイドバーから確認できるように、\n",
    "# GoogleDrive のルートが colab の drive/My Drive/ にマウントされてる。\n",
    "# ローカルで動かす場合は実行しなくて良い。"
   ]
  },
  {
   "cell_type": "code",
   "execution_count": 3,
   "metadata": {
    "colab": {
     "base_uri": "https://localhost:8080/",
     "height": 34
    },
    "colab_type": "code",
    "executionInfo": {
     "elapsed": 3565,
     "status": "ok",
     "timestamp": 1596178787279,
     "user": {
      "displayName": "Rui ds",
      "photoUrl": "",
      "userId": "05602141477976220902"
     },
     "user_tz": -540
    },
    "id": "3ZUlVli3AouG",
    "outputId": "935627b9-3477-46bf-8175-09020471d4fa"
   },
   "outputs": [
    {
     "name": "stdout",
     "output_type": "stream",
     "text": [
      "True\n"
     ]
    }
   ],
   "source": [
    "# GPU 設定\n",
    "# 参考：https://qiita.com/tomo_makes/items/f70fe48c428d3a61e131\n",
    "# ランタイム -> ランタイムのタイプ変更 -> ハードウェアアクセラレータに GPU\n",
    "\n",
    "import torch\n",
    "\n",
    "print(torch.cuda.is_available())\n",
    "device = torch.device(\"cuda\" if torch.cuda.is_available() else \"cpu\")"
   ]
  },
  {
   "cell_type": "markdown",
   "metadata": {
    "colab_type": "text",
    "id": "zAIWVgt0B3DS"
   },
   "source": [
    "# ライブラリのインポート"
   ]
  },
  {
   "cell_type": "code",
   "execution_count": 6,
   "metadata": {
    "colab": {},
    "colab_type": "code",
    "executionInfo": {
     "elapsed": 704,
     "status": "ok",
     "timestamp": 1596178821649,
     "user": {
      "displayName": "Rui ds",
      "photoUrl": "",
      "userId": "05602141477976220902"
     },
     "user_tz": -540
    },
    "id": "5jM1motrBo9F"
   },
   "outputs": [],
   "source": [
    "import torch\n",
    "import torch.nn as nn\n",
    "from torch import optim\n",
    "import torch.nn.functional as F\n",
    "\n",
    "import csv\n",
    "import random\n",
    "import re\n",
    "import os\n",
    "import unicodedata\n",
    "import codecs\n",
    "import itertools\n",
    "import matplotlib.pyplot as plt\n",
    "import time\n",
    "import pickle"
   ]
  },
  {
   "cell_type": "markdown",
   "metadata": {
    "colab_type": "text",
    "id": "0y4eWrNtC4lz"
   },
   "source": [
    "# コーネル映画対話データの前処理"
   ]
  },
  {
   "cell_type": "code",
   "execution_count": null,
   "metadata": {
    "colab": {
     "base_uri": "https://localhost:8080/",
     "height": 187
    },
    "colab_type": "code",
    "executionInfo": {
     "elapsed": 582,
     "status": "ok",
     "timestamp": 1596169008322,
     "user": {
      "displayName": "Rui ds",
      "photoUrl": "",
      "userId": "05602141477976220902"
     },
     "user_tz": -540
    },
    "id": "cH6JMHh0B07k",
    "outputId": "04c069e6-2f88-4fd2-8163-66debe54fdb4"
   },
   "outputs": [
    {
     "name": "stdout",
     "output_type": "stream",
     "text": [
      "b'L1045 +++$+++ u0 +++$+++ m0 +++$+++ BIANCA +++$+++ They do not!\\n'\n",
      "b'L1044 +++$+++ u2 +++$+++ m0 +++$+++ CAMERON +++$+++ They do to!\\n'\n",
      "b'L985 +++$+++ u0 +++$+++ m0 +++$+++ BIANCA +++$+++ I hope so.\\n'\n",
      "b'L984 +++$+++ u2 +++$+++ m0 +++$+++ CAMERON +++$+++ She okay?\\n'\n",
      "b\"L925 +++$+++ u0 +++$+++ m0 +++$+++ BIANCA +++$+++ Let's go.\\n\"\n",
      "b\"u0 +++$+++ u2 +++$+++ m0 +++$+++ ['L194', 'L195', 'L196', 'L197']\\n\"\n",
      "b\"u0 +++$+++ u2 +++$+++ m0 +++$+++ ['L198', 'L199']\\n\"\n",
      "b\"u0 +++$+++ u2 +++$+++ m0 +++$+++ ['L200', 'L201', 'L202', 'L203']\\n\"\n",
      "b\"u0 +++$+++ u2 +++$+++ m0 +++$+++ ['L204', 'L205', 'L206']\\n\"\n",
      "b\"u0 +++$+++ u2 +++$+++ m0 +++$+++ ['L207', 'L208']\\n\"\n"
     ]
    }
   ],
   "source": [
    "# 見てみる\n",
    "\n",
    "corpus_name = \"cornell movie-dialogs corpus\"\n",
    "corpus = \"/content/drive/My Drive/chatbot/data/\" + corpus_name\n",
    "\n",
    "def printLines(file, n=10):\n",
    "    \"\"\" 表示用関数\n",
    "    file の n 行目までを出力する。\n",
    "    \"\"\"\n",
    "    with open(file, 'rb') as datafile:\n",
    "        lines = datafile.readlines()\n",
    "    for line in lines[:n]:\n",
    "        print(line)\n",
    "\n",
    "printLines(os.path.join(corpus, \"movie_lines.txt\"), n=5)\n",
    "printLines(os.path.join(corpus, \"movie_conversations.txt\"), n=5)\n",
    "# フォーマットの詳細はダウンロード元の\n",
    "# https://www.cs.cornell.edu/~cristian/Cornell_Movie-Dialogs_Corpus.html\n",
    "# を参照。"
   ]
  },
  {
   "cell_type": "markdown",
   "metadata": {
    "colab_type": "text",
    "id": "ZvuRnMSnJrLZ"
   },
   "source": [
    "## 前処理その１（フォーマットまわり）"
   ]
  },
  {
   "cell_type": "code",
   "execution_count": null,
   "metadata": {
    "colab": {},
    "colab_type": "code",
    "id": "X_RINaS-B0Cs"
   },
   "outputs": [],
   "source": [
    "# 加工用の関数の定義１（フォーマットまわり）\n",
    "\n",
    "\n",
    "def loadLines(fileName, fields):\n",
    "    \"\"\" 各行の文ををカラムに分割\n",
    "    fileName の各行を、fields に指定されたフィールド (カラム) に分割。\n",
    "    結果を dict で返す。\n",
    "    \"\"\"\n",
    "    lines = {}\n",
    "    with open(fileName, 'r', encoding='iso-8859-1') as f:\n",
    "        for line in f:\n",
    "            values = line.split(\" +++$+++ \")\n",
    "            # Extract fields\n",
    "            lineObj = {}\n",
    "            for i, field in enumerate(fields):\n",
    "                lineObj[field] = values[i]\n",
    "            lines[lineObj['lineID']] = lineObj\n",
    "    return lines\n",
    "\n",
    "\n",
    "def loadConversations(fileName, lines, fields):\n",
    "    \"\"\" loadLines で得られた各行を movie_conversations.txt に基づく会話へグループ分け。\n",
    "    loadLines で１セリフを１メンバとした dict を作った。\n",
    "    ここに対話情報を合わせて「１対話ごとに１要素のリスト」を作る。\n",
    "    誰と誰が対話してて、みたいな。\n",
    "    \"\"\"\n",
    "    conversations = []\n",
    "    with open(fileName, 'r', encoding='iso-8859-1') as f:\n",
    "        for line in f:\n",
    "            values = line.split(\" +++$+++ \")\n",
    "            # Extract fields\n",
    "            convObj = {}\n",
    "            for i, field in enumerate(fields):\n",
    "                convObj[field] = values[i]\n",
    "            # Convert string to list (convObj[\"utteranceIDs\"] == \"['L598485', 'L598486', ...]\")\n",
    "            utterance_id_pattern = re.compile('L[0-9]+')\n",
    "            lineIds = utterance_id_pattern.findall(convObj[\"utteranceIDs\"])\n",
    "            # Reassemble lines\n",
    "            convObj[\"lines\"] = []\n",
    "            for lineId in lineIds:\n",
    "                convObj[\"lines\"].append(lines[lineId])\n",
    "            conversations.append(convObj)\n",
    "    return conversations\n",
    "\n",
    "\n",
    "def extractSentencePairs(conversations):\n",
    "    \"\"\"\n",
    "    送信と返信を分けるってのをやってる。\n",
    "    \"\"\"\n",
    "    qa_pairs = []\n",
    "    for conversation in conversations:\n",
    "        # Iterate over all the lines of the conversation\n",
    "        for i in range(len(conversation[\"lines\"]) - 1):  # We ignore the last line (no answer for it)\n",
    "            inputLine = conversation[\"lines\"][i][\"text\"].strip()\n",
    "            targetLine = conversation[\"lines\"][i+1][\"text\"].strip()\n",
    "            # Filter wrong samples (if one of the lists is empty)\n",
    "            if inputLine and targetLine:\n",
    "                qa_pairs.append([inputLine, targetLine])\n",
    "    return qa_pairs\n",
    "\n"
   ]
  },
  {
   "cell_type": "code",
   "execution_count": null,
   "metadata": {
    "colab": {
     "base_uri": "https://localhost:8080/",
     "height": 258
    },
    "colab_type": "code",
    "executionInfo": {
     "elapsed": 2926,
     "status": "ok",
     "timestamp": 1596169424973,
     "user": {
      "displayName": "Rui ds",
      "photoUrl": "",
      "userId": "05602141477976220902"
     },
     "user_tz": -540
    },
    "id": "7fSv8meyDarP",
    "outputId": "ac4b3f5c-b679-4b07-b34c-948ddecbb86f"
   },
   "outputs": [
    {
     "name": "stdout",
     "output_type": "stream",
     "text": [
      "\n",
      "Processing corpus...\n",
      "\n",
      "Loading conversations...\n",
      "\n",
      "Writing newly formatted file...\n",
      "\n",
      "Sample lines from file:\n",
      "b\"Can we make this quick?  Roxanne Korrine and Andrew Barrett are having an incredibly horrendous public break- up on the quad.  Again.\\tWell, I thought we'd start with pronunciation, if that's okay with you.\\n\"\n",
      "b\"Well, I thought we'd start with pronunciation, if that's okay with you.\\tNot the hacking and gagging and spitting part.  Please.\\n\"\n",
      "b\"Not the hacking and gagging and spitting part.  Please.\\tOkay... then how 'bout we try out some French cuisine.  Saturday?  Night?\\n\"\n",
      "b\"You're asking me out.  That's so cute. What's your name again?\\tForget it.\\n\"\n",
      "b\"No, no, it's my fault -- we didn't have a proper introduction ---\\tCameron.\\n\"\n"
     ]
    }
   ],
   "source": [
    "# 加工の実行１\n",
    "\n",
    "\n",
    "# 加工後のデータをこのファイルに書き込む\n",
    "datafile = \"/content/drive/My Drive/chatbot/data/\" + \"formatted_movie_lines.txt\"\n",
    "\n",
    "# 送信返信の区切り文字としてタブ'\\t'を使用。\n",
    "delimiter = '\\t'\n",
    "# '\\t' をエスケープ文字として扱わせない\n",
    "delimiter = str(codecs.decode(delimiter, \"unicode_escape\"))\n",
    "\n",
    "\n",
    "lines = {}\n",
    "conversations = []\n",
    "# 完成形テーブル2つのフィールド(カラム)名をセット。\n",
    "MOVIE_LINES_FIELDS = [\"lineID\", \"characterID\", \"movieID\", \"character\", \"text\"]\n",
    "MOVIE_CONVERSATIONS_FIELDS = [\"character1ID\", \"character2ID\", \"movieID\", \"utteranceIDs\"]\n",
    "\n",
    "\n",
    "# プレーンテキストの各行を MOVIE_LINES_FIELDS に指定したフィールド(カラム)に分割。\n",
    "print(\"\\nProcessing corpus...\")\n",
    "lines = loadLines(os.path.join(corpus, \"movie_lines.txt\"), MOVIE_LINES_FIELDS)\n",
    "\n",
    "# 上記の lines は「１セリフ１メンバの dict」だが、これを「１対話１要素のリスト」にする。\n",
    "print(\"\\nLoading conversations...\")\n",
    "conversations = loadConversations(os.path.join(corpus, \"movie_conversations.txt\"),\n",
    "                                  lines, MOVIE_CONVERSATIONS_FIELDS)\n",
    "\n",
    "\n",
    "# ファイル書き込み（初回のみ実行）\n",
    "# 上記で得られた結果を、さっき指定した datafile == \"formatted_movie_lines.txt\" に書き込む。\n",
    "# この時に、送信と返信をタブ区切りにしている。\n",
    "print(\"\\nWriting newly formatted file...\")\n",
    "with open(datafile, 'w', encoding='utf-8') as outputfile:\n",
    "    writer = csv.writer(outputfile, delimiter=delimiter, lineterminator='\\n')\n",
    "    for pair in extractSentencePairs(conversations):\n",
    "        writer.writerow(pair)\n",
    "\n",
    "\n",
    "# 見てみる\n",
    "print(\"\\nSample lines from file:\")\n",
    "printLines(datafile, n=5)\n",
    "# 出力ファイル \"formatted_movie_lines.txt\" を開いて見ると良い。\n",
    "# 221282 行ある。送信返信の対がこれだけあるってこと。\n",
    "# \\t で送信と返信がタブ区切りされていることに注目。\n"
   ]
  },
  {
   "cell_type": "markdown",
   "metadata": {
    "colab_type": "text",
    "id": "Z2vLo-yYFHVZ"
   },
   "source": [
    "formatted_movie_lines.txt の l.211716〜。\n",
    "\n",
    "タブ\\tで分割し、対になってるのを重複消し、並べてみた。\n",
    "\n",
    "こういう自然な対話が入っているデータ。どの映画かの情報は消したが。\n",
    "\n",
    "Can I help you, sir?\n",
    "\n",
    "I need a ticket.\n",
    "\n",
    "Where to?\n",
    "\n",
    "Out of here.\n",
    "\n",
    "But, in particular?\n",
    "\n",
    "I . . . Mexico.  You got a bus that goes to Mexico?  That's where I have to go.\n",
    "\n",
    "Where in Mexico would you like--\n",
    "\n",
    "I don't care, just get me there.\n",
    "\n",
    "We have a bus to Mexico.  Arrives in two hours.  Have to make a couple of connections, but it will get you across the border.\n",
    "\n",
    "How much.\n",
    "\n",
    "One way, or round trip?\n",
    "\n",
    "One way.\n",
    "\n",
    "Thirty even.\n",
    "\n",
    "Twenty-seven fifty.  That's all I got.\t\n",
    "\n",
    "The ticket is thirty dollars.\n",
    "\n",
    "I bought a beer.  That was two- fifty. I bought a beer, otherwise I would have thirty.\n",
    "\n",
    "I'm sorry, sir.  It's thirty dollars for the ticket.\n",
    "\n",
    "Yeah.  Just a little short. Figures.  I just wanted to get out, that's all. Please, you don't understand.  I have to get out of here.  They're going to come looking for me. They're going to kill me.  If I can't get this ticket then I'm going to have to do things to get out of here.  I don't want to hurt anybody, I just want to leave.\n",
    "\n",
    "I'll give you the money!  Okay? I'll give you two-fifty."
   ]
  },
  {
   "cell_type": "markdown",
   "metadata": {
    "colab_type": "text",
    "id": "Fk0qGNvWJ2cr"
   },
   "source": [
    "## 前処理その２（辞書まわり）"
   ]
  },
  {
   "cell_type": "code",
   "execution_count": null,
   "metadata": {
    "colab": {},
    "colab_type": "code",
    "id": "rwnUiagyHPvc"
   },
   "outputs": [],
   "source": [
    "# 加工用の定義２（辞書まわり）\n",
    "\n",
    "\n",
    "PAD_token = 0  # Used for padding short sentences\n",
    "# パディング(短すぎる文の後ろを穴埋め)用\n",
    "\n",
    "SOS_token = 1  # Start-of-sentence token\n",
    "# 文頭を表す文字的\n",
    "\n",
    "EOS_token = 2  # End-of-sentence token\n",
    "# 文末を表す文字的\n",
    "\n",
    "\n",
    "class Voc:\n",
    "    \"\"\"単語の辞書＝Vocabulary\n",
    "    Attributes\n",
    "      trimmed: すでに trim() メソッドが実行されたか。\n",
    "      word2index：単語をIDに変換する dict\n",
    "      word2count：単語を出現回数に変換する dict\n",
    "      index2word：IDを単語に変換する dict\n",
    "    \"\"\"\n",
    "    def __init__(self, name):\n",
    "        self.name = name\n",
    "        self.trimmed = False\n",
    "        self.word2index = {}\n",
    "        self.word2count = {}\n",
    "        self.index2word = {PAD_token: \"PAD\", SOS_token: \"SOS\", EOS_token: \"EOS\"}\n",
    "        self.num_words = 3  # Count SOS, EOS, PAD\n",
    "\n",
    "    def addSentence(self, sentence):\n",
    "        \"\"\"\n",
    "        文を半スペで分割して単語にして、そのすべての単語に addWord() を適用。\n",
    "        \"\"\"\n",
    "        for word in sentence.split(' '):\n",
    "            self.addWord(word)\n",
    "\n",
    "    def addWord(self, word):\n",
    "        \"\"\"\n",
    "        単語を辞書つまり語彙に追加する。\n",
    "        ついでに出現回数もカウントしている。\n",
    "        \"\"\"\n",
    "        if word not in self.word2index:\n",
    "            self.word2index[word] = self.num_words\n",
    "            self.word2count[word] = 1\n",
    "            self.index2word[self.num_words] = word\n",
    "            self.num_words += 1\n",
    "        else:\n",
    "            self.word2count[word] += 1\n",
    "\n",
    "    # Remove words below a certain count threshold\n",
    "    def trim(self, min_count):\n",
    "        \"\"\"\n",
    "        稀な(出現回数の少ない)単語をトリムする、つまり除去する。\n",
    "        \"\"\"\n",
    "        if self.trimmed:\n",
    "            return\n",
    "        self.trimmed = True\n",
    "\n",
    "        keep_words = []\n",
    "\n",
    "        for k, v in self.word2count.items():\n",
    "            if v >= min_count:\n",
    "                keep_words.append(k)\n",
    "\n",
    "        print('keep_words {} / {} = {:.4f}'.format(\n",
    "            len(keep_words), len(self.word2index), len(keep_words) / len(self.word2index)\n",
    "        ))\n",
    "\n",
    "        # Reinitialize dictionaries\n",
    "        self.word2index = {}\n",
    "        self.word2count = {}\n",
    "        self.index2word = {PAD_token: \"PAD\", SOS_token: \"SOS\", EOS_token: \"EOS\"}\n",
    "        self.num_words = 3 # Count default tokens\n",
    "\n",
    "        for word in keep_words:\n",
    "            self.addWord(word)\n",
    "\n",
    "\n",
    "MAX_LENGTH = 10  # Maximum sentence length to consider\n",
    "# 質問/返答 ともに 10 word 以下の対話の対を、扱う。\n",
    "# それ以外はフィルタかけて取り除いてしまう。まあ後でこのグローバル設定値を使う。\n",
    "# 長期依存性の学習を十分に行えるモデルなら、ここを大きくしても問題ない。\n",
    "\n",
    "\n",
    "# Unicode 文字列を ASCII に変換\n",
    "def unicodeToAscii(s):\n",
    "    return ''.join(\n",
    "        c for c in unicodedata.normalize('NFD', s)\n",
    "        if unicodedata.category(c) != 'Mn'\n",
    "    )\n",
    "\n",
    "\n",
    "# Lowercase, trim, and remove non-letter characters\n",
    "# 上記の unicodeToASCII() を呼んで ASCII にした上で、\n",
    "# すべての文字を小文字に変換し、句読点を除去し、アルファベット以外の文字を除去。\n",
    "# 正規表現で頑張っている。\n",
    "def normalizeString(s):\n",
    "    s = unicodeToAscii(s.lower().strip())\n",
    "    s = re.sub(r\"([.!?])\", r\" \\1\", s)\n",
    "    s = re.sub(r\"[^a-zA-Z.!?]+\", r\" \", s)\n",
    "    s = re.sub(r\"\\s+\", r\" \", s).strip()\n",
    "    return s\n",
    "\n",
    "\n",
    "# Read query/response pairs and return a voc object\n",
    "# 質問/応答 の対を読み込んで上記関数で正規化した上で返却。\n",
    "# その際にタブ\\tで 質問/応答 を分割して、(質問,応答) というタプルでペアにする。\n",
    "# また、辞書 Voc インスタンスを生成して返却。\n",
    "def readVocs(datafile, corpus_name):\n",
    "    print(\"Reading lines...\")\n",
    "    # Read the file and split into lines\n",
    "    lines = open(datafile, encoding='utf-8').\\\n",
    "        read().strip().split('\\n')\n",
    "    # Split every line into pairs and normalize\n",
    "    pairs = [[normalizeString(s) for s in l.split('\\t')] for l in lines]\n",
    "    voc = Voc(corpus_name)\n",
    "    return voc, pairs\n",
    "\n",
    "\n",
    "# グローバルで指定した閾値 MAX_LENGTH より短い文からなる対話(対)かどうかを判定する。\n",
    "# 質問/応答 ともに MAX_LENGTH より短かったら、True を返す。\n",
    "def filterPair(p):\n",
    "    # Input sequences need to preserve the last word for EOS token\n",
    "    return len(p[0].split(' ')) < MAX_LENGTH and len(p[1].split(' ')) < MAX_LENGTH\n",
    "\n",
    "\n",
    "# Filter pairs using filterPair condition\n",
    "# 複数の 質問/応答 に上記フィルターを適用して、一気に判定。\n",
    "def filterPairs(pairs):\n",
    "    return [pair for pair in pairs if filterPair(pair)]\n",
    "\n",
    "\n",
    "# 上記で定義した様々な関数を一気に実行する関数。(アプリケーションサービス）\n",
    "def loadPrepareData(corpus, corpus_name, datafile):\n",
    "    print(\"Start preparing training data ...\")\n",
    "    voc, pairs = readVocs(datafile, corpus_name)\n",
    "    print(\"Read {!s} sentence pairs\".format(len(pairs)))\n",
    "    pairs = filterPairs(pairs)\n",
    "    print(\"Trimmed to {!s} sentence pairs\".format(len(pairs)))\n",
    "    print(\"Counting words...\")\n",
    "    for pair in pairs:\n",
    "        voc.addSentence(pair[0])\n",
    "        voc.addSentence(pair[1])\n",
    "    print(\"Counted words:\", voc.num_words)\n",
    "    return voc, pairs\n",
    "\n",
    "\n",
    "# レア単語判定の閾値。すぐ後ろで使う。\n",
    "MIN_COUNT = 3    # Minimum word count threshold for trimming\n",
    "\n",
    "def trimRareWords(voc, pairs, MIN_COUNT):\n",
    "    # Trim words used under the MIN_COUNT from the voc\n",
    "    \"\"\"\n",
    "    出現回数が MIN_COUNT より小さいレアな単語を、辞書から削除する。\n",
    "    さらに、会話ペアのうち「質問にも応答にもレア単語が含まれていない」ものだけ残し、あとは除去する。\n",
    "    \"\"\"\n",
    "    voc.trim(MIN_COUNT)\n",
    "    # Filter out pairs with trimmed words\n",
    "    keep_pairs = []\n",
    "    for pair in pairs:\n",
    "        input_sentence = pair[0]\n",
    "        output_sentence = pair[1]\n",
    "        keep_input = True\n",
    "        keep_output = True\n",
    "        # Check input sentence\n",
    "        for word in input_sentence.split(' '):\n",
    "            if word not in voc.word2index:\n",
    "                keep_input = False\n",
    "                break\n",
    "        # Check output sentence\n",
    "        for word in output_sentence.split(' '):\n",
    "            if word not in voc.word2index:\n",
    "                keep_output = False\n",
    "                break\n",
    "\n",
    "        # Only keep pairs that do not contain trimmed word(s) in their input or output sentence\n",
    "        if keep_input and keep_output:\n",
    "            keep_pairs.append(pair)\n",
    "\n",
    "    print(\"Trimmed from {} pairs to {}, {:.4f} of total\".format(len(pairs), len(keep_pairs), len(keep_pairs) / len(pairs)))\n",
    "    return keep_pairs\n"
   ]
  },
  {
   "cell_type": "code",
   "execution_count": null,
   "metadata": {
    "colab": {
     "base_uri": "https://localhost:8080/",
     "height": 377
    },
    "colab_type": "code",
    "executionInfo": {
     "elapsed": 12239,
     "status": "ok",
     "timestamp": 1596170004202,
     "user": {
      "displayName": "Rui ds",
      "photoUrl": "",
      "userId": "05602141477976220902"
     },
     "user_tz": -540
    },
    "id": "1HtkugpXIkjc",
    "outputId": "16798281-0860-4366-e6da-8f0c20bf4232"
   },
   "outputs": [
    {
     "name": "stdout",
     "output_type": "stream",
     "text": [
      "Start preparing training data ...\n",
      "Reading lines...\n",
      "Read 221282 sentence pairs\n",
      "Trimmed to 64271 sentence pairs\n",
      "Counting words...\n",
      "Counted words: 18008\n",
      "{0: 'PAD', 1: 'SOS', 2: 'EOS', 3: 'there', 4: '.', 5: 'where', 6: '?', 7: 'you', 8: 'have', 9: 'my'}\n",
      "{'there': 2013, '.': 104124, 'where': 2475, '?': 43942, 'you': 29248, 'have': 3023, 'my': 3148, 'word': 125, 'as': 558, 'a': 8579}\n",
      "['how many people were in your old school ?', 'thirty two .']\n",
      "['thirty two .', 'get out !']\n",
      "['get out !', 'how many people go here ?']\n",
      "['how many people go here ?', 'couple thousand . most of them evil']\n",
      "['that girl i', 'you burn you pine you perish ?']\n",
      "['you burn you pine you perish ?', 'who is she ?']\n",
      "['yeah just a minor encounter with the shrew .', 'that s her ? bianca s sister ?']\n",
      "['that s her ? bianca s sister ?', 'the mewling rampalian wretch herself .']\n",
      "['what about him ?', 'you wanna go out with him ?']\n",
      "['what makes you think he ll do it ?', 'he seems like he thrives on danger']\n",
      "keep_words 7823 / 18005 = 0.4345\n",
      "Trimmed from 64271 pairs to 53165, 0.8272 of total\n"
     ]
    }
   ],
   "source": [
    "# 加工の実行２\n",
    "\n",
    "\n",
    "# 上の loadPrepareData() を実行して、辞書(vocabulary)と質問応答ペアを取得。\n",
    "voc, pairs = loadPrepareData(corpus, corpus_name, datafile)\n",
    "\n",
    "print({k:voc.index2word[k] for k in list(voc.index2word)[:10]})\n",
    "print({k:voc.word2count[k] for k in list(voc.word2count)[:10]})\n",
    "\n",
    "for pair in pairs[40:50]:\n",
    "    print(pair)\n",
    "\n",
    "\n",
    "# レアな単語の除去を実行\n",
    "pairs = trimRareWords(voc, pairs, MIN_COUNT)  # voc は内部状態が更新される。\n",
    "# print の通り、20%の会話を削るだけで、50%以上の単語を削ることができている。\n"
   ]
  },
  {
   "cell_type": "markdown",
   "metadata": {
    "colab_type": "text",
    "id": "Qpq1wQ8bJTaw"
   },
   "source": [
    "## 前処理その３（torch.Tensor化まわり）"
   ]
  },
  {
   "cell_type": "code",
   "execution_count": null,
   "metadata": {
    "colab": {},
    "colab_type": "code",
    "id": "I-POYcQJKHCW"
   },
   "outputs": [],
   "source": [
    "# 加工用の定義３（torch.Tensor化まわり）\n",
    "\n",
    "\n",
    "def indexesFromSentence(voc, sentence):\n",
    "    return [voc.word2index[word] for word in sentence.split(' ')] + [EOS_token]\n",
    "\n",
    "\n",
    "def zeroPadding(l, fillvalue=PAD_token):\n",
    "    return list(itertools.zip_longest(*l, fillvalue=fillvalue))\n",
    "\n",
    "\n",
    "def binaryMatrix(l, value=PAD_token):\n",
    "    m = []\n",
    "    for i, seq in enumerate(l):\n",
    "        m.append([])\n",
    "        for token in seq:\n",
    "            if token == PAD_token:\n",
    "                m[i].append(0)\n",
    "            else:\n",
    "                m[i].append(1)\n",
    "    return m\n",
    "\n",
    "\n",
    "def inputVar(l, voc):\n",
    "    indexes_batch = [indexesFromSentence(voc, sentence) for sentence in l]\n",
    "    lengths = torch.tensor([len(indexes) for indexes in indexes_batch])\n",
    "    padList = zeroPadding(indexes_batch)\n",
    "    padVar = torch.LongTensor(padList).to(device)  # GPU指定\n",
    "    return padVar, lengths\n",
    "\n",
    "\n",
    "def outputVar(l, voc):\n",
    "    indexes_batch = [indexesFromSentence(voc, sentence) for sentence in l]\n",
    "    max_target_len = max([len(indexes) for indexes in indexes_batch])\n",
    "    padList = zeroPadding(indexes_batch)\n",
    "    mask = binaryMatrix(padList)\n",
    "    mask = torch.BoolTensor(mask)\n",
    "    padVar = torch.LongTensor(padList).to(device)  # GPU指定\n",
    "    return padVar, mask, max_target_len\n",
    "\n",
    "\n",
    "def batch2TrainData(voc, pair_batch):\n",
    "    pair_batch.sort(key=lambda x: len(x[0].split(\" \")), reverse=True)\n",
    "    input_batch, output_batch = [], []\n",
    "    for pair in pair_batch:\n",
    "        input_batch.append(pair[0])\n",
    "        output_batch.append(pair[1])\n",
    "    inp, lengths = inputVar(input_batch, voc)\n",
    "    output, mask, max_target_len = outputVar(output_batch, voc)\n",
    "    return inp, lengths, output, mask, max_target_len\n"
   ]
  },
  {
   "cell_type": "code",
   "execution_count": null,
   "metadata": {
    "colab": {
     "base_uri": "https://localhost:8080/",
     "height": 309
    },
    "colab_type": "code",
    "executionInfo": {
     "elapsed": 649,
     "status": "ok",
     "timestamp": 1596171221037,
     "user": {
      "displayName": "Rui ds",
      "photoUrl": "",
      "userId": "05602141477976220902"
     },
     "user_tz": -540
    },
    "id": "9VVOsMscKcDx",
    "outputId": "01887996-d723-4cdc-9727-10e32e46f4bb"
   },
   "outputs": [
    {
     "name": "stdout",
     "output_type": "stream",
     "text": [
      "[['your mom take anything before this happened ?', 'yeah but i don t know what .'], ['that requires me goin out tonight ?', 'a bit .'], ['certainly . right over there .', 'you re all right .'], ['come on .', 'no . no no no .'], ['maybe .', 'don t you care ?']]\n",
      "input_variable:\n",
      " tensor([[  70, 1119,  218,  371,  129,   45,  368,    6,    2],\n",
      "        [  36, 4458,   83,  212,   21,   22,    6,    2,    0],\n",
      "        [2387,    4,  266,  935,    3,    4,    2,    0,    0],\n",
      "        [ 401,  177,    4,    2,    0,    0,    0,    0,    0],\n",
      "        [ 287,    4,    2,    0,    0,    0,    0,    0,    0]],\n",
      "       device='cuda:0')\n",
      "target_variable:\n",
      " tensor([[ 167,   42,   25,  197,  117,   24,   50,    4,    2],\n",
      "        [  12, 1947,    4,    2,    0,    0,    0,    0,    0],\n",
      "        [   7,   14,   38,  266,    4,    2,    0,    0,    0],\n",
      "        [  34,    4,   34,   34,   34,    4,    2,    0,    0],\n",
      "        [ 197,  117,    7,  280,    6,    2,    0,    0,    0]],\n",
      "       device='cuda:0')\n"
     ]
    },
    {
     "data": {
      "text/plain": [
       "torch.Size([5, 9])"
      ]
     },
     "execution_count": 33,
     "metadata": {
      "tags": []
     },
     "output_type": "execute_result"
    }
   ],
   "source": [
    "# 一部加工してみる\n",
    "# 学習の際は、ミニバッチサンプリングの後に毎回、batch2TrainData() を呼び出して使う。\n",
    "\n",
    "\n",
    "small_batch_size = 5     # とりあえず 5 つの会話について加工前後を見る。\n",
    "\n",
    "# 加工本体\n",
    "tmp = [random.choice(pairs) for _ in range(small_batch_size)]\n",
    "batches = batch2TrainData(voc, tmp)\n",
    "print(tmp)  # small_batch_size分の会話ペア。\n",
    "\n",
    "# 返却値のタプルを分ける\n",
    "input_variable, lengths, target_variable, mask, max_target_len = batches\n",
    "\n",
    "print(\"input_variable:\\n\", input_variable.T)\n",
    "input_variable.T.shape\n",
    "input_variable.T[1]\n",
    "# 元の会話バッチ tmp の質問文の方を ID 化したもの。\n",
    "# MAX_LENGTH = 10 で 質問/返答 ともに 10 word 以下の対話の対を扱い、\n",
    "# かつ、ゼロパディングするので、\n",
    "# 横のサイズが 10 以下(バッチ内の最長にものに合わさるようになってる)になっている。\n",
    "# 縦のサイズはもちろん質問文の数つまり会話バッチサイズ。\n",
    "# <EOS> の ID が 2 ってことにも注意。\n",
    "\n",
    "\n",
    "# print(\"target_variable:\", target_variable)\n",
    "print(\"target_variable:\\n\", target_variable.T)\n",
    "target_variable.T.shape\n",
    "# input_variable の応答文バージョン。モデル的にはターゲット(アウトカム)\n",
    "\n"
   ]
  },
  {
   "cell_type": "markdown",
   "metadata": {
    "colab_type": "text",
    "id": "gkpo9ApgMHiO"
   },
   "source": [
    "# Encoder, Decoder の定義"
   ]
  },
  {
   "cell_type": "code",
   "execution_count": 7,
   "metadata": {
    "colab": {},
    "colab_type": "code",
    "executionInfo": {
     "elapsed": 554,
     "status": "ok",
     "timestamp": 1596178836554,
     "user": {
      "displayName": "Rui ds",
      "photoUrl": "",
      "userId": "05602141477976220902"
     },
     "user_tz": -540
    },
    "id": "o73AhfWYOUhU"
   },
   "outputs": [],
   "source": [
    "\n",
    "class Encoder(nn.Module):\n",
    "    \"\"\" Encoder in seq2seq\n",
    "    \n",
    "    質問文を処理する Encoder で、系列データを文脈ベクトルに変換する。\n",
    "    \n",
    "    LSTM を使っているが、GRU や Elman RNN でも OK。\n",
    "    ここを他のものに変えて比較等できれば良いと思う(が、計算時間、、、)\n",
    "\n",
    "    最終 LSTM ユニットの状態 h と記憶 c を合わせたものを文脈ベクトルとし、decoder に引き継ぐ。 \n",
    "    \n",
    "    nn.LSTM クラスについては、公式ドキュメント\n",
    "    https://pytorch.org/docs/master/generated/torch.nn.LSTM.html\n",
    "    が分かりやすい。\n",
    "\n",
    "    backward()は「PyTorch用データ型 torch.Tensor 自体」に実装されている。\n",
    "    \n",
    "    Attributes:\n",
    "      hidden_dim：コンストラクタ参照。\n",
    "      word_embeddings： embedding レイヤ。系列の数だけまとめたもの。\n",
    "      lstm： LSTM レイヤ。系列の数だけまとまってる。\n",
    "    \n",
    "    \"\"\"\n",
    "    def __init__(self, vocab_size, embedding_dim, hidden_dim):\n",
    "        \"\"\" initialization\n",
    "        Args:\n",
    "          vocab_size：語彙数。つまり embedding レイヤの入力の次元。\n",
    "          embedding_dim：単語を埋め込む次元。embedding レイヤの出力の次元。\n",
    "          hidden_dim：状態hの次元＝記憶cの次元。モデル式の通り LSTM では同じ。\n",
    "        \"\"\"\n",
    "        super(Encoder, self).__init__()\n",
    "        self.hidden_dim = hidden_dim\n",
    "        self.word_embeddings = nn.Embedding(vocab_size, embedding_dim, padding_idx=0)\n",
    "        # padding_idx=0 はパディング文字の ID は 0 にしてあります、という意味。\n",
    "        # 効果は https://takoroy-ai.hatenadiary.jp/entry/2018/07/02/224216\n",
    "        self.lstm = nn.LSTM(embedding_dim, hidden_dim, batch_first=True)\n",
    "        # batch_first=True としておくと、forward の入出力のテンソルの形状が、\n",
    "        # (batch, seq, feature) つまり (文数, 単語数, 次元数) になる。\n",
    "\n",
    "    def forward(self, sequence):\n",
    "        \"\"\" forward propagation\n",
    "        入力系列 -> 文脈ベクトル(最終ユニットの状態と記憶)\n",
    "        nn.Module を継承してるので Encoder インスタンスを関数ぽく呼んだ時に、\n",
    "        この forward が呼び出され実行される。明示しても良いが。\n",
    "        Args:\n",
    "          sequence：質問文のバッチ。ID化されて int になってる状態。\n",
    "        \"\"\"\n",
    "        # 前述の仕組みで embedding の forward つまり単語埋め込みが実行されてる。\n",
    "        embedding = self.word_embeddings(sequence)\n",
    "        # 後述の通り「最終LSTMユニットの状態+記憶」は 2 番目の返却値。これが encoder の出力つまり文脈ベクトル。\n",
    "        _, state = self.lstm(embedding)\n",
    "        return state\n"
   ]
  },
  {
   "cell_type": "code",
   "execution_count": 9,
   "metadata": {
    "colab": {},
    "colab_type": "code",
    "executionInfo": {
     "elapsed": 877,
     "status": "ok",
     "timestamp": 1596178869687,
     "user": {
      "displayName": "Rui ds",
      "photoUrl": "",
      "userId": "05602141477976220902"
     },
     "user_tz": -540
    },
    "id": "XoXejSpSOYuh"
   },
   "outputs": [],
   "source": [
    "\n",
    "class Decoder(nn.Module):\n",
    "    \"\"\" Decoder in seq2seq\n",
    "\n",
    "    回答文を生成する Decoder で、文脈ベクトルを系列データに変換する。\n",
    "    LSTM を使っているが、GRU や Elman RNN でも OK。\n",
    "    初期時点の状態と記憶に、文脈ベクトル(Encoder の最終 LSTM ユニットの状態 h と記憶 c)を使っている。\n",
    "    \n",
    "    nn.Linear クラスについては、公式ドキュメント\n",
    "    https://pytorch.org/docs/master/generated/torch.nn.Linear.html\n",
    "    が分かりやすい。\n",
    "\n",
    "    backward()は「PyTorch用データ型 torch.Tensor 自体」に実装されている。\n",
    "    \n",
    "    softmax は Decoder には入れない。ロス のとこに入れる。\n",
    "    \n",
    "    Attributes:\n",
    "      hidden_dim：コンストラクタ参照。\n",
    "      word_embeddings： embedding レイヤ。複数系列分。\n",
    "      lstm： LSTM レイヤ。複数系列分のユニットのかたまり。\n",
    "      hidden2linear：線形(Affine)変換レイヤ。隠れ状態をAffine変換して単語出現スコアにしてる。\n",
    "    \n",
    "    \"\"\"\n",
    "    def __init__(self, vocab_size, embedding_dim, hidden_dim):\n",
    "        \"\"\"\n",
    "        Args:\n",
    "          vocab_size：語彙数。つまり Linear(Affine) レイヤの出力の次元。\n",
    "          embedding_dim：単語を埋め込む次元。embedding レイヤの出力の次元。\n",
    "          hidden_dim：状態hの次元＝記憶cの次元。モデル式の通り LSTM では同じ。\n",
    "        今回は、Encoder と Decoder で別ルールで埋め込みする。\n",
    "        なので、embedding_dim については Encoder の方と一致している必要はない。\n",
    "        hidden_dim は一致していないとダメ。文脈を引き継げない。\n",
    "        \"\"\"\n",
    "        super(Decoder, self).__init__()\n",
    "        self.hidden_dim = hidden_dim\n",
    "        self.word_embeddings = nn.Embedding(vocab_size, embedding_dim, padding_idx=0)\n",
    "        # padding_idx=0 はパディング文字の ID は 0 にしてあります、という意味。\n",
    "        # 効果は https://takoroy-ai.hatenadiary.jp/entry/2018/07/02/224216\n",
    "        self.lstm = nn.LSTM(embedding_dim, hidden_dim, batch_first=True)\n",
    "        # batch_first=True としておくと、forward の入出力のテンソルの形状が、\n",
    "        # (batch, seq, feature) つまり (文数, 単語数, 次元数) になる。\n",
    "        self.hidden2linear = nn.Linear(hidden_dim, vocab_size)\n",
    "\n",
    "    def forward(self, sequence, encoder_state):\n",
    "        \"\"\" forward propagation\n",
    "        文脈ベクトル(Encoder最終ユニットの状態と記憶) -> 出力系列\n",
    "        nn.Module を継承してるので Encoder インスタンスを関数ぽく呼んだ時に、\n",
    "        この forward が呼び出され実行される。明示しても良いが。\n",
    "        Args:\n",
    "          sequence: 教師強制学習の際は応答文のバッチ。予測(推論)の際は1つ前で生成された単語？\n",
    "        \"\"\"\n",
    "        embedding = self.word_embeddings(sequence)\n",
    "        # 前述の通り、第1返却値が「全時点ユニットにおける隠れ状態」なので、教師強制学習の時はこれそのまま使える。\n",
    "        # また、第2返却値は「最終ユニットの隠れ状態+記憶」で、予測(推論)の際は文を作り続けるので必要。\n",
    "        output, state = self.lstm(embedding, encoder_state)\n",
    "        output = self.hidden2linear(output)\n",
    "        return output, state\n"
   ]
  },
  {
   "cell_type": "markdown",
   "metadata": {
    "colab_type": "text",
    "id": "4EObWUuMOZPV"
   },
   "source": [
    "# モデルの作成・ハイパーパラメータ的要素の設定"
   ]
  },
  {
   "cell_type": "code",
   "execution_count": null,
   "metadata": {
    "colab": {},
    "colab_type": "code",
    "id": "V9Iu_n-KOmPi"
   },
   "outputs": [],
   "source": [
    "\n",
    "# モデルのハイパーパラメータ設定と作成\n",
    "\n",
    "word_embedding_dim = 500  # 単語を埋め込む次元。encoder と decoder で共有しよう。\n",
    "state_memory_dim = 500    # 状態・記憶の次元\n",
    "\n",
    "encoder = Encoder(\n",
    "    vocab_size=len(voc.index2word),\n",
    "    embedding_dim= word_embedding_dim,\n",
    "    hidden_dim=state_memory_dim\n",
    ").to(device)  # GPU指定\n",
    "\n",
    "decoder = Decoder(\n",
    "    vocab_size=len(voc.index2word),\n",
    "    embedding_dim=word_embedding_dim,\n",
    "    hidden_dim=state_memory_dim\n",
    ").to(device)  # GPU指定\n",
    "\n",
    "\n",
    "# 学習の設定 (ハイパーパラメータとみなせる)\n",
    "\n",
    "criterion = nn.CrossEntropyLoss()  # ロス指標\n",
    "# CrossEntropyLoss には softmax 変換も入っている。\n",
    "\n",
    "encoder_optimizer = optim.Adam(encoder.parameters(), lr=0.001)\n",
    "decoder_optimizer = optim.Adam(decoder.parameters(), lr=0.001)\n",
    "# とりあえず Adam を使っておく。\n",
    "\n",
    "batch_size = 64\n",
    "iter_per_epoch = int(len(pairs) / batch_size)\n",
    "epoch_num = 20\n",
    "# iter_per_epoch = 10\n",
    "# epoch_num = 10\n"
   ]
  },
  {
   "cell_type": "markdown",
   "metadata": {
    "colab_type": "text",
    "id": "QrzNvUYNPHT2"
   },
   "source": [
    "# 学習の実行"
   ]
  },
  {
   "cell_type": "code",
   "execution_count": null,
   "metadata": {
    "colab": {
     "base_uri": "https://localhost:8080/",
     "height": 964
    },
    "colab_type": "code",
    "executionInfo": {
     "elapsed": 243191,
     "status": "ok",
     "timestamp": 1596173165568,
     "user": {
      "displayName": "Rui ds",
      "photoUrl": "",
      "userId": "05602141477976220902"
     },
     "user_tz": -540
    },
    "id": "QqjVj0NmPYJd",
    "outputId": "de2990c1-1e43-47e9-bdf2-4d722c27816c"
   },
   "outputs": [
    {
     "name": "stdout",
     "output_type": "stream",
     "text": [
      "training ...\n",
      "Epoch 1: 19346.14\n",
      "Epoch 2: 16044.28\n",
      "Epoch 3: 14326.04\n",
      "Epoch 4: 12844.57\n",
      "Epoch 5: 11458.40\n",
      "Epoch 6: 10157.52\n",
      "Epoch 7: 8957.80\n",
      "Epoch 8: 7902.11\n",
      "Epoch 9: 6922.49\n",
      "Epoch 10: 6060.21\n",
      "Epoch 11: 5343.09\n",
      "Epoch 12: 4711.15\n",
      "Epoch 13: 4159.06\n",
      "Epoch 14: 3689.56\n",
      "Epoch 15: 3286.21\n",
      "Epoch 16: 2962.84\n",
      "Epoch 17: 2683.89\n",
      "Epoch 18: 2478.16\n",
      "Epoch 19: 2262.94\n",
      "Epoch 20: 2104.73\n"
     ]
    },
    {
     "data": {
      "image/png": "[encoded data removed]",
      "text/plain": [
       "<Figure size 432x288 with 1 Axes>"
      ]
     },
     "metadata": {
      "needs_background": "light",
      "tags": []
     },
     "output_type": "display_data"
    },
    {
     "data": {
      "image/png": "[encoded data removed]",
      "text/plain": [
       "<Figure size 432x288 with 1 Axes>"
      ]
     },
     "metadata": {
      "needs_background": "light",
      "tags": []
     },
     "output_type": "display_data"
    },
    {
     "name": "stdout",
     "output_type": "stream",
     "text": [
      "Done\n",
      "経過時間：242.40701818466187\n"
     ]
    }
   ],
   "source": [
    "start = time.time()\n",
    "\n",
    "all_epoch_losses = []\n",
    "all_iter_losses = []\n",
    "\n",
    "print(\"training ...\")\n",
    "\n",
    "\n",
    "# epoch = 0\n",
    "for epoch in range(epoch_num):\n",
    "    \n",
    "    epoch_loss = 0 # epoch毎のloss\n",
    "\n",
    "    # i = 0\n",
    "    for i in range(iter_per_epoch):\n",
    "\n",
    "        # 勾配の初期化\n",
    "        encoder_optimizer.zero_grad()\n",
    "        decoder_optimizer.zero_grad()\n",
    "\n",
    "        # データをテンソルに変換\n",
    "        input_ts, _, output_ts, __, ___ = batch2TrainData(\n",
    "            voc, [random.choice(pairs) for _ in range(batch_size)]\n",
    "        )\n",
    "        input_ts = input_ts.T # これでOK。EOSがあるままで良いと思う。貴重な情報。\n",
    "        output_ts = output_ts.T\n",
    "        sos = torch.ones(output_ts.shape[0], 1, dtype=int, device=device)  # GPU指定\n",
    "        output_ts = torch.cat((sos, output_ts), 1)  # SOS_token 1 を先頭にくっつければ良さそう。\n",
    "\n",
    "        # Encoderの順伝搬\n",
    "        encoder_state = encoder(input_ts)\n",
    "\n",
    "        # Decoderに教師強制で入力する文。次の単語は？のモデルなので最後の単語は使わない。\n",
    "        source = output_ts[:, :-1]\n",
    "\n",
    "        # Decoderの教師データ。次の単語は？のモデルなので SOS token 1 を削る。\n",
    "        target = output_ts[:, 1:]\n",
    "\n",
    "        loss = 0\n",
    "        # 学習時はDecoderはこのように１回呼び出すだけでグルっと系列をループしているからこれでOK\n",
    "        decoder_output, _ = decoder(source, encoder_state)\n",
    "\n",
    "        for j in range(decoder_output.size()[1]):\n",
    "            # バッチ毎にまとめてloss計算\n",
    "            loss += criterion(decoder_output[:, j, :], target[:, j])\n",
    "\n",
    "        epoch_loss += loss.item()\n",
    "        all_iter_losses.append(loss.item())\n",
    "\n",
    "        # 誤差逆伝播\n",
    "        loss.backward()  # これでいける。\n",
    "        # loss には criterion の返却値がスタックされていて、\n",
    "        # criterion には decoder の output が渡されていて、\n",
    "        # decoder の output が得られるまでの演算過程が内部で保存されているので、\n",
    "        # loss.backward() を引金に一気に back prop される。\n",
    "\n",
    "        # パラメータ更新\n",
    "        # Encoder、Decoder両方学習\n",
    "        encoder_optimizer.step()\n",
    "        decoder_optimizer.step()  # これでいける。\n",
    "        # 両 optimizer インスタンス生成時にすでにパラメータオブジェクトへのパスが通っていて、\n",
    "        # パラメータオブジェクト自体に勾配が記録されているので、これで OK。\n",
    "\n",
    "    # 損失を表示\n",
    "    print(\"Epoch %d: %.2f\" % (epoch+1, epoch_loss))\n",
    "    all_epoch_losses.append(epoch_loss)\n",
    "    if epoch_loss < 1: break\n",
    "\n",
    "plt.plot(all_epoch_losses)\n",
    "plt.title(\"Learning Curve (Epoch)\")\n",
    "plt.xlabel(\"Epochs\")\n",
    "plt.ylabel(\"Loss\")\n",
    "plt.show()\n",
    "# fig = plt.figure()\n",
    "plt.plot(all_iter_losses)\n",
    "plt.title(\"Learning Curve (Iteration)\")\n",
    "plt.xlabel(\"Iterations\")\n",
    "plt.ylabel(\"Loss\")\n",
    "plt.show()\n",
    "# fig.savefig(\"learning_curve_seq2seq.png\")\n",
    "\n",
    "print(\"Done\")\n",
    "\n",
    "elapsed_time = time.time() - start\n",
    "print(f\"経過時間：{elapsed_time}\")\n",
    "\n",
    "# 計算の量 : ローカル CPU : Colab GPU\n",
    "# 100iters : ２分         : ２秒\n",
    "# 5epochs  : １時間       : １分\n",
    "# 20epochs :  ー          : ４分    "
   ]
  },
  {
   "cell_type": "markdown",
   "metadata": {
    "colab_type": "text",
    "id": "VWOd6xPOP7RN"
   },
   "source": [
    "# 学習したモデル等の保存"
   ]
  },
  {
   "cell_type": "code",
   "execution_count": null,
   "metadata": {
    "colab": {},
    "colab_type": "code",
    "id": "BD_wgnYgWYgb"
   },
   "outputs": [],
   "source": [
    "\n",
    "# モデルの保存\n",
    "# torch.save(encoder.state_dict(), \"/content/drive/My Drive/chatbot/encoder_20epoch.pt\")\n",
    "# torch.save(decoder.state_dict(), \"/content/drive/My Drive/chatbot/decoder_20epoch.pt\")\n",
    "# マウントされてる場所にちゃんと保存する。\n",
    "\n",
    "# 辞書も保存しておく\n",
    "# with open(\"/content/drive/My Drive/chatbot/word2index_CornellMovie.pkl\", \"wb\") as f:\n",
    "#     pickle.dump(voc.word2index, f) #保存\n",
    "# with open(\"/content/drive/My Drive/chatbot/index2word_CornellMovie.pkl\", \"wb\") as f:\n",
    "#     pickle.dump(voc.index2word, f) #保存\n"
   ]
  },
  {
   "cell_type": "markdown",
   "metadata": {
    "colab_type": "text",
    "id": "ELpQ_vRRWp9L"
   },
   "source": [
    "# モデル等の読み込み\n",
    "\n",
    "- 上記セルで学習したモデルをそのまま使う\n",
    "- or 以前に学習済みのモデルを使う\n",
    "\n",
    "辞書についてもどちらか。"
   ]
  },
  {
   "cell_type": "code",
   "execution_count": 10,
   "metadata": {
    "colab": {},
    "colab_type": "code",
    "executionInfo": {
     "elapsed": 12012,
     "status": "ok",
     "timestamp": 1596178886811,
     "user": {
      "displayName": "Rui ds",
      "photoUrl": "",
      "userId": "05602141477976220902"
     },
     "user_tz": -540
    },
    "id": "EgqonWMlYVvt"
   },
   "outputs": [],
   "source": [
    "\n",
    "# 上記セルで学習したモデルをそのまま使う場合\n",
    "# encoder_loaded = encoder\n",
    "# decoder_loaded = decoder\n",
    "\n",
    "# 以前に学習済みのモデルを使う場合\n",
    "encoder_loaded = Encoder(vocab_size=7826, embedding_dim=500, hidden_dim=500).to(device)  # GPU\n",
    "decoder_loaded = Decoder(vocab_size=7826, embedding_dim=500, hidden_dim=500).to(device)  # GPU\n",
    "# encoder_loaded.load_state_dict(torch.load(\"/content/drive/My Drive/chatbot/encoder_20epoch.pt\"))\n",
    "# decoder_loaded.load_state_dict(torch.load(\"/content/drive/My Drive/chatbot/decoder_20epoch.pt\"))\n",
    "encoder_loaded.load_state_dict(torch.load(\"/content/chatbot/encoder_20epoch.pt\"))\n",
    "decoder_loaded.load_state_dict(torch.load(\"/content/chatbot/decoder_20epoch.pt\"))\n",
    "\n",
    "\n",
    "# 上記で作った辞書をそのまま使う\n",
    "# index2word = voc.index2word\n",
    "# word2index = voc.word2index\n",
    "\n",
    "# 前に作った辞書を読み込む\n",
    "# with open(\"/content/drive/My Drive/chatbot/index2word_CornellMovie.pkl\", \"rb\") as f:\n",
    "#     index2word = pickle.load(f)\n",
    "# with open(\"/content/drive/My Drive/chatbot/word2index_CornellMovie.pkl\", \"rb\") as f:\n",
    "#     word2index = pickle.load(f)\n",
    "with open(\"/content/chatbot/index2word_CornellMovie.pkl\", \"rb\") as f:\n",
    "    index2word = pickle.load(f)\n",
    "with open(\"/content/chatbot/word2index_CornellMovie.pkl\", \"rb\") as f:\n",
    "    word2index = pickle.load(f)\n"
   ]
  },
  {
   "cell_type": "markdown",
   "metadata": {
    "colab_type": "text",
    "id": "0sgsecNsc6lQ"
   },
   "source": [
    "# チャットボットの補助的な関数を定義"
   ]
  },
  {
   "cell_type": "code",
   "execution_count": 11,
   "metadata": {
    "colab": {},
    "colab_type": "code",
    "executionInfo": {
     "elapsed": 582,
     "status": "ok",
     "timestamp": 1596178891812,
     "user": {
      "displayName": "Rui ds",
      "photoUrl": "",
      "userId": "05602141477976220902"
     },
     "user_tz": -540
    },
    "id": "dfpU3abvdLTr"
   },
   "outputs": [],
   "source": [
    "\n",
    "# Unicode 文字列を ASCII に変換\n",
    "def unicodeToAscii(s):\n",
    "    return ''.join(\n",
    "        c for c in unicodedata.normalize('NFD', s)\n",
    "        if unicodedata.category(c) != 'Mn'\n",
    "    )\n",
    "\n",
    "\n",
    "# Lowercase, trim, and remove non-letter characters\n",
    "# 上記の unicodeToASCII() を呼んで ASCII にした上で、\n",
    "# すべての文字を小文字に変換し、句読点を除去し、アルファベット以外の文字を除去。\n",
    "# 正規表現で頑張っている。\n",
    "def normalizeString(s):\n",
    "    s = unicodeToAscii(s.lower().strip())\n",
    "    s = re.sub(r\"([.!?])\", r\" \\1\", s)\n",
    "    s = re.sub(r\"[^a-zA-Z.!?]+\", r\" \", s)\n",
    "    s = re.sub(r\"\\s+\", r\" \", s).strip()\n",
    "    return s\n",
    "\n",
    "\n",
    "def get_max_index(decoder_output):\n",
    "    results = []\n",
    "    for h in decoder_output:\n",
    "        results.append(torch.argmax(h))\n",
    "    return torch.tensor(results, device=device).view(1, 1)  # GPU指定\n"
   ]
  },
  {
   "cell_type": "markdown",
   "metadata": {
    "colab_type": "text",
    "id": "1J8Gf-lcZWDb"
   },
   "source": [
    "# チャットボットの関数を定義"
   ]
  },
  {
   "cell_type": "code",
   "execution_count": 12,
   "metadata": {
    "colab": {},
    "colab_type": "code",
    "executionInfo": {
     "elapsed": 553,
     "status": "ok",
     "timestamp": 1596178894608,
     "user": {
      "displayName": "Rui ds",
      "photoUrl": "",
      "userId": "05602141477976220902"
     },
     "user_tz": -540
    },
    "id": "tl1Ane0ZZb6B"
   },
   "outputs": [],
   "source": [
    "\n",
    "def chatbot(user_question, encoder_model=encoder_loaded, decoder_model=decoder_loaded, word2index=word2index, index2word=index2word, SOS_token=1, EOS_token=2):\n",
    "    \"\"\" chatbot by seq2seq\n",
    "    \"\"\"\n",
    "    user_input = normalizeString(user_question)\n",
    "    user_input = [word2index[word] for word in user_input.split(' ')] + [EOS_token]\n",
    "    user_input = torch.LongTensor([user_input]).to(device)  # GPU指定\n",
    "\n",
    "    with torch.no_grad():\n",
    "        \n",
    "        encoder_state = encoder_model(user_input)\n",
    "        \n",
    "        # Decoderにはまず文字列生成開始を表す\"SOS\"をインプットにする\n",
    "        decoder_input_tensor = torch.tensor([[SOS_token]]).to(device)  # GPU指定\n",
    "        \n",
    "        # 文脈ベクトルを enc から dec へ\n",
    "        decoder_hidden = encoder_state\n",
    "        \n",
    "        # 結果(単語)を結合するための入れ物を定義\n",
    "        batch_tmp = torch.zeros(1,1, dtype=torch.long).to(device)  # GPU指定\n",
    "        \n",
    "        while decoder_input_tensor[0][0] != EOS_token:  # EOS が出るまで単語生成\n",
    "            decoder_output, decoder_hidden = decoder_model(decoder_input_tensor, decoder_hidden)\n",
    "            decoder_output.shape     # 予測された文字出現スコア\n",
    "            decoder_hidden[0].shape  # 次時点の(状態,記憶)のタプル\n",
    "            decoder_input_tensor = get_max_index(decoder_output[0])\n",
    "            batch_tmp = torch.cat([batch_tmp, decoder_input_tensor], dim=1)\n",
    "            \n",
    "        # 最初のbatch_tmpの0要素が先頭に残ってしまっているのでスライスして削除\n",
    "        bot_output = batch_tmp[:,1:][0]\n",
    "\n",
    "    bot_output = [index2word[int(idx)] for idx in bot_output]\n",
    "    bot_answer = \" \".join(bot_output[:-1])\n",
    "\n",
    "    return bot_answer\n"
   ]
  },
  {
   "cell_type": "markdown",
   "metadata": {
    "colab_type": "text",
    "id": "gbJ_1WYfa3zV"
   },
   "source": [
    " # チャットボットを動かす"
   ]
  },
  {
   "cell_type": "code",
   "execution_count": 14,
   "metadata": {
    "colab": {
     "base_uri": "https://localhost:8080/",
     "height": 408
    },
    "colab_type": "code",
    "executionInfo": {
     "elapsed": 68329,
     "status": "ok",
     "timestamp": 1596179069567,
     "user": {
      "displayName": "Rui ds",
      "photoUrl": "",
      "userId": "05602141477976220902"
     },
     "user_tz": -540
    },
    "id": "rRDu9A5Kq7Qd",
    "outputId": "13c0c895-95cd-48b0-f2cc-4e7fe53f10a3"
   },
   "outputs": [
    {
     "name": "stdout",
     "output_type": "stream",
     "text": [
      "You : Hello.\n",
      "Bot : hello .\n",
      "You : How are you?\n",
      "Bot : fine . how are you ?\n",
      "You : Me too.\n",
      "Bot : what ?\n",
      "You : what's up?\n",
      "Bot : i don t know .\n",
      "You : Where are you from?\n",
      "Bot : san francisco .\n",
      "You : What time is it now?\n",
      "Bot : eight .\n",
      "You : How much is it?\n",
      "Bot : seventy five per cent .\n",
      "You : Who are you?\n",
      "Bot : i m with you !\n",
      "You : I love you.\n",
      "Bot : i love you too frances .\n",
      "You : Who?\n",
      "Bot : i do .\n",
      "You : see you.\n",
      "Bot : no\n",
      "You : exit\n"
     ]
    }
   ],
   "source": [
    "# チャットボットを実行。 exit と打つと終了する。\n",
    "# 「未知の単語」トークンを辞書に追加するのを忘れたので、辞書に無い語を打つとエラーになる...\n",
    "\n",
    "while True:\n",
    "    q = input(\"You : \")\n",
    "    if q == \"exit\":\n",
    "        break\n",
    "    else:\n",
    "        print(\"Bot : \" + chatbot(q))"
   ]
  },
  {
   "cell_type": "code",
   "execution_count": null,
   "metadata": {
    "colab": {},
    "colab_type": "code",
    "id": "fks72cN0rT4A"
   },
   "outputs": [],
   "source": []
  }
 ],
 "metadata": {
  "accelerator": "GPU",
  "colab": {
   "authorship_tag": "ABX9TyM0UlKm0M1xkOhkreuuN2xz",
   "collapsed_sections": [],
   "name": "chatbot_seq2seq_LSTM.ipynb",
   "provenance": []
  },
  "kernelspec": {
   "display_name": "Python 3",
   "language": "python",
   "name": "python3"
  },
  "language_info": {
   "codemirror_mode": {
    "name": "ipython",
    "version": 3
   },
   "file_extension": ".py",
   "mimetype": "text/x-python",
   "name": "python",
   "nbconvert_exporter": "python",
   "pygments_lexer": "ipython3",
   "version": "3.7.4"
  }
 },
 "nbformat": 4,
 "nbformat_minor": 1
}
